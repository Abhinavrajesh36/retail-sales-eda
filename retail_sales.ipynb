{
 "cells": [
  {
   "cell_type": "markdown",
   "id": "ea782f30-a4da-489c-a23b-fa00318bf701",
   "metadata": {},
   "source": [
    "## Importing Libraries"
   ]
  },
  {
   "cell_type": "code",
   "execution_count": 3,
   "id": "7e80d70a-73ad-4573-9531-b1e84556bff1",
   "metadata": {},
   "outputs": [],
   "source": [
    "import pandas as pd\n",
    "import numpy as np\n",
    "import matplotlib.pyplot as plt\n",
    "\n"
   ]
  },
  {
   "cell_type": "code",
   "execution_count": 4,
   "id": "e9ef780c-ebda-4945-86ad-5a2068b4a9cd",
   "metadata": {},
   "outputs": [
    {
     "data": {
      "text/html": [
       "<div>\n",
       "<style scoped>\n",
       "    .dataframe tbody tr th:only-of-type {\n",
       "        vertical-align: middle;\n",
       "    }\n",
       "\n",
       "    .dataframe tbody tr th {\n",
       "        vertical-align: top;\n",
       "    }\n",
       "\n",
       "    .dataframe thead th {\n",
       "        text-align: right;\n",
       "    }\n",
       "</style>\n",
       "<table border=\"1\" class=\"dataframe\">\n",
       "  <thead>\n",
       "    <tr style=\"text-align: right;\">\n",
       "      <th></th>\n",
       "      <th>order_id</th>\n",
       "      <th>order_date</th>\n",
       "      <th>delivery_date</th>\n",
       "      <th>customer_id</th>\n",
       "      <th>segment</th>\n",
       "      <th>city</th>\n",
       "      <th>state</th>\n",
       "      <th>product_category</th>\n",
       "      <th>product_subcategory</th>\n",
       "      <th>quantity</th>\n",
       "      <th>discount</th>\n",
       "      <th>price_after_discount</th>\n",
       "      <th>payment_method</th>\n",
       "      <th>is_returned</th>\n",
       "      <th>shipping_days</th>\n",
       "      <th>total_sales</th>\n",
       "    </tr>\n",
       "  </thead>\n",
       "  <tbody>\n",
       "    <tr>\n",
       "      <th>0</th>\n",
       "      <td>ORD100000</td>\n",
       "      <td>2024-11-13</td>\n",
       "      <td>2024-11-18</td>\n",
       "      <td>CUST2895</td>\n",
       "      <td>Consumer</td>\n",
       "      <td>Delhi</td>\n",
       "      <td>Delhi</td>\n",
       "      <td>Fashion</td>\n",
       "      <td>Jeans</td>\n",
       "      <td>1</td>\n",
       "      <td>0.1</td>\n",
       "      <td>577.92</td>\n",
       "      <td>Credit Card</td>\n",
       "      <td>0</td>\n",
       "      <td>5</td>\n",
       "      <td>577.92</td>\n",
       "    </tr>\n",
       "    <tr>\n",
       "      <th>1</th>\n",
       "      <td>ORD100001</td>\n",
       "      <td>2024-10-28</td>\n",
       "      <td>2024-10-29</td>\n",
       "      <td>CUST4389</td>\n",
       "      <td>Consumer</td>\n",
       "      <td>Indore</td>\n",
       "      <td>Madhya Pradesh</td>\n",
       "      <td>Beauty &amp; Personal Care</td>\n",
       "      <td>Shampoo</td>\n",
       "      <td>2</td>\n",
       "      <td>0.1</td>\n",
       "      <td>1304.60</td>\n",
       "      <td>Cash on Delivery</td>\n",
       "      <td>0</td>\n",
       "      <td>1</td>\n",
       "      <td>2609.20</td>\n",
       "    </tr>\n",
       "  </tbody>\n",
       "</table>\n",
       "</div>"
      ],
      "text/plain": [
       "    order_id  order_date delivery_date customer_id   segment    city  \\\n",
       "0  ORD100000  2024-11-13    2024-11-18    CUST2895  Consumer   Delhi   \n",
       "1  ORD100001  2024-10-28    2024-10-29    CUST4389  Consumer  Indore   \n",
       "\n",
       "            state        product_category product_subcategory  quantity  \\\n",
       "0           Delhi                 Fashion               Jeans         1   \n",
       "1  Madhya Pradesh  Beauty & Personal Care             Shampoo         2   \n",
       "\n",
       "   discount  price_after_discount    payment_method  is_returned  \\\n",
       "0       0.1                577.92       Credit Card            0   \n",
       "1       0.1               1304.60  Cash on Delivery            0   \n",
       "\n",
       "   shipping_days  total_sales  \n",
       "0              5       577.92  \n",
       "1              1      2609.20  "
      ]
     },
     "execution_count": 4,
     "metadata": {},
     "output_type": "execute_result"
    }
   ],
   "source": [
    "# Loading dataset\n",
    "df=pd.read_csv(\"retail_sales_mini_eda.csv\")\n",
    "df.head(2)"
   ]
  },
  {
   "cell_type": "markdown",
   "id": "461f04d5-7ee3-4e60-9e7d-76cd0b1adddf",
   "metadata": {},
   "source": [
    "# Data Preprocessing"
   ]
  },
  {
   "cell_type": "code",
   "execution_count": 4,
   "id": "b8ed4a9e-ee6b-4dfe-94a2-130a03e30dbb",
   "metadata": {},
   "outputs": [
    {
     "data": {
      "text/plain": [
       "(1515, 16)"
      ]
     },
     "execution_count": 4,
     "metadata": {},
     "output_type": "execute_result"
    }
   ],
   "source": [
    "#shape\n",
    "df.shape"
   ]
  },
  {
   "cell_type": "code",
   "execution_count": 25,
   "id": "68473158-bb48-43c0-b3a5-3851112cfc2d",
   "metadata": {},
   "outputs": [
    {
     "data": {
      "text/plain": [
       "order_id                        object\n",
       "order_date              datetime64[ns]\n",
       "delivery_date           datetime64[ns]\n",
       "customer_id                     object\n",
       "segment                         object\n",
       "city                            object\n",
       "state                           object\n",
       "product_category                object\n",
       "product_subcategory             object\n",
       "quantity                         int64\n",
       "discount                       float64\n",
       "price_after_discount           float64\n",
       "payment_method                  object\n",
       "is_returned                      int64\n",
       "shipping_days                    int64\n",
       "total_sales                    float64\n",
       "dtype: object"
      ]
     },
     "execution_count": 25,
     "metadata": {},
     "output_type": "execute_result"
    }
   ],
   "source": [
    "#dtype\n",
    "df.dtypes"
   ]
  },
  {
   "cell_type": "code",
   "execution_count": 8,
   "id": "1637cf8b-d558-4d31-b503-f5891cadfe12",
   "metadata": {},
   "outputs": [
    {
     "data": {
      "text/html": [
       "<div>\n",
       "<style scoped>\n",
       "    .dataframe tbody tr th:only-of-type {\n",
       "        vertical-align: middle;\n",
       "    }\n",
       "\n",
       "    .dataframe tbody tr th {\n",
       "        vertical-align: top;\n",
       "    }\n",
       "\n",
       "    .dataframe thead th {\n",
       "        text-align: right;\n",
       "    }\n",
       "</style>\n",
       "<table border=\"1\" class=\"dataframe\">\n",
       "  <thead>\n",
       "    <tr style=\"text-align: right;\">\n",
       "      <th></th>\n",
       "      <th>count</th>\n",
       "      <th>unique</th>\n",
       "      <th>top</th>\n",
       "      <th>freq</th>\n",
       "      <th>mean</th>\n",
       "      <th>std</th>\n",
       "      <th>min</th>\n",
       "      <th>25%</th>\n",
       "      <th>50%</th>\n",
       "      <th>75%</th>\n",
       "      <th>max</th>\n",
       "    </tr>\n",
       "  </thead>\n",
       "  <tbody>\n",
       "    <tr>\n",
       "      <th>order_id</th>\n",
       "      <td>1515</td>\n",
       "      <td>1500</td>\n",
       "      <td>ORD100180</td>\n",
       "      <td>2</td>\n",
       "      <td>NaN</td>\n",
       "      <td>NaN</td>\n",
       "      <td>NaN</td>\n",
       "      <td>NaN</td>\n",
       "      <td>NaN</td>\n",
       "      <td>NaN</td>\n",
       "      <td>NaN</td>\n",
       "    </tr>\n",
       "    <tr>\n",
       "      <th>order_date</th>\n",
       "      <td>1515</td>\n",
       "      <td>470</td>\n",
       "      <td>2024-01-05</td>\n",
       "      <td>12</td>\n",
       "      <td>NaN</td>\n",
       "      <td>NaN</td>\n",
       "      <td>NaN</td>\n",
       "      <td>NaN</td>\n",
       "      <td>NaN</td>\n",
       "      <td>NaN</td>\n",
       "      <td>NaN</td>\n",
       "    </tr>\n",
       "    <tr>\n",
       "      <th>delivery_date</th>\n",
       "      <td>1515</td>\n",
       "      <td>551</td>\n",
       "      <td>2025-02-01</td>\n",
       "      <td>10</td>\n",
       "      <td>NaN</td>\n",
       "      <td>NaN</td>\n",
       "      <td>NaN</td>\n",
       "      <td>NaN</td>\n",
       "      <td>NaN</td>\n",
       "      <td>NaN</td>\n",
       "      <td>NaN</td>\n",
       "    </tr>\n",
       "    <tr>\n",
       "      <th>customer_id</th>\n",
       "      <td>1515</td>\n",
       "      <td>1385</td>\n",
       "      <td>CUST6710</td>\n",
       "      <td>4</td>\n",
       "      <td>NaN</td>\n",
       "      <td>NaN</td>\n",
       "      <td>NaN</td>\n",
       "      <td>NaN</td>\n",
       "      <td>NaN</td>\n",
       "      <td>NaN</td>\n",
       "      <td>NaN</td>\n",
       "    </tr>\n",
       "    <tr>\n",
       "      <th>segment</th>\n",
       "      <td>1515</td>\n",
       "      <td>4</td>\n",
       "      <td>Corporate</td>\n",
       "      <td>387</td>\n",
       "      <td>NaN</td>\n",
       "      <td>NaN</td>\n",
       "      <td>NaN</td>\n",
       "      <td>NaN</td>\n",
       "      <td>NaN</td>\n",
       "      <td>NaN</td>\n",
       "      <td>NaN</td>\n",
       "    </tr>\n",
       "    <tr>\n",
       "      <th>city</th>\n",
       "      <td>1495</td>\n",
       "      <td>12</td>\n",
       "      <td>Ahmedabad</td>\n",
       "      <td>141</td>\n",
       "      <td>NaN</td>\n",
       "      <td>NaN</td>\n",
       "      <td>NaN</td>\n",
       "      <td>NaN</td>\n",
       "      <td>NaN</td>\n",
       "      <td>NaN</td>\n",
       "      <td>NaN</td>\n",
       "    </tr>\n",
       "    <tr>\n",
       "      <th>state</th>\n",
       "      <td>1515</td>\n",
       "      <td>11</td>\n",
       "      <td>Maharashtra</td>\n",
       "      <td>251</td>\n",
       "      <td>NaN</td>\n",
       "      <td>NaN</td>\n",
       "      <td>NaN</td>\n",
       "      <td>NaN</td>\n",
       "      <td>NaN</td>\n",
       "      <td>NaN</td>\n",
       "      <td>NaN</td>\n",
       "    </tr>\n",
       "    <tr>\n",
       "      <th>product_category</th>\n",
       "      <td>1515</td>\n",
       "      <td>5</td>\n",
       "      <td>Grocery</td>\n",
       "      <td>327</td>\n",
       "      <td>NaN</td>\n",
       "      <td>NaN</td>\n",
       "      <td>NaN</td>\n",
       "      <td>NaN</td>\n",
       "      <td>NaN</td>\n",
       "      <td>NaN</td>\n",
       "      <td>NaN</td>\n",
       "    </tr>\n",
       "    <tr>\n",
       "      <th>product_subcategory</th>\n",
       "      <td>1495</td>\n",
       "      <td>25</td>\n",
       "      <td>Kurta</td>\n",
       "      <td>76</td>\n",
       "      <td>NaN</td>\n",
       "      <td>NaN</td>\n",
       "      <td>NaN</td>\n",
       "      <td>NaN</td>\n",
       "      <td>NaN</td>\n",
       "      <td>NaN</td>\n",
       "      <td>NaN</td>\n",
       "    </tr>\n",
       "    <tr>\n",
       "      <th>quantity</th>\n",
       "      <td>1515.0</td>\n",
       "      <td>NaN</td>\n",
       "      <td>NaN</td>\n",
       "      <td>NaN</td>\n",
       "      <td>2.938614</td>\n",
       "      <td>1.389547</td>\n",
       "      <td>1.0</td>\n",
       "      <td>2.0</td>\n",
       "      <td>3.0</td>\n",
       "      <td>4.0</td>\n",
       "      <td>5.0</td>\n",
       "    </tr>\n",
       "    <tr>\n",
       "      <th>discount</th>\n",
       "      <td>1515.0</td>\n",
       "      <td>NaN</td>\n",
       "      <td>NaN</td>\n",
       "      <td>NaN</td>\n",
       "      <td>0.04901</td>\n",
       "      <td>0.060017</td>\n",
       "      <td>0.0</td>\n",
       "      <td>0.0</td>\n",
       "      <td>0.05</td>\n",
       "      <td>0.1</td>\n",
       "      <td>0.2</td>\n",
       "    </tr>\n",
       "    <tr>\n",
       "      <th>price_after_discount</th>\n",
       "      <td>1515.0</td>\n",
       "      <td>NaN</td>\n",
       "      <td>NaN</td>\n",
       "      <td>NaN</td>\n",
       "      <td>12539.18734</td>\n",
       "      <td>21621.655362</td>\n",
       "      <td>97.29</td>\n",
       "      <td>993.17</td>\n",
       "      <td>2363.0</td>\n",
       "      <td>11825.26</td>\n",
       "      <td>338687.384756</td>\n",
       "    </tr>\n",
       "    <tr>\n",
       "      <th>payment_method</th>\n",
       "      <td>1495</td>\n",
       "      <td>5</td>\n",
       "      <td>Cash on Delivery</td>\n",
       "      <td>335</td>\n",
       "      <td>NaN</td>\n",
       "      <td>NaN</td>\n",
       "      <td>NaN</td>\n",
       "      <td>NaN</td>\n",
       "      <td>NaN</td>\n",
       "      <td>NaN</td>\n",
       "      <td>NaN</td>\n",
       "    </tr>\n",
       "    <tr>\n",
       "      <th>is_returned</th>\n",
       "      <td>1515.0</td>\n",
       "      <td>NaN</td>\n",
       "      <td>NaN</td>\n",
       "      <td>NaN</td>\n",
       "      <td>0.040264</td>\n",
       "      <td>0.196643</td>\n",
       "      <td>0.0</td>\n",
       "      <td>0.0</td>\n",
       "      <td>0.0</td>\n",
       "      <td>0.0</td>\n",
       "      <td>1.0</td>\n",
       "    </tr>\n",
       "    <tr>\n",
       "      <th>shipping_days</th>\n",
       "      <td>1515.0</td>\n",
       "      <td>NaN</td>\n",
       "      <td>NaN</td>\n",
       "      <td>NaN</td>\n",
       "      <td>3.455446</td>\n",
       "      <td>1.923872</td>\n",
       "      <td>1.0</td>\n",
       "      <td>2.0</td>\n",
       "      <td>3.0</td>\n",
       "      <td>5.0</td>\n",
       "      <td>8.0</td>\n",
       "    </tr>\n",
       "    <tr>\n",
       "      <th>total_sales</th>\n",
       "      <td>1515.0</td>\n",
       "      <td>NaN</td>\n",
       "      <td>NaN</td>\n",
       "      <td>NaN</td>\n",
       "      <td>37074.606891</td>\n",
       "      <td>67899.910857</td>\n",
       "      <td>106.84</td>\n",
       "      <td>2263.79</td>\n",
       "      <td>6737.7</td>\n",
       "      <td>34449.135</td>\n",
       "      <td>396869.45</td>\n",
       "    </tr>\n",
       "  </tbody>\n",
       "</table>\n",
       "</div>"
      ],
      "text/plain": [
       "                       count unique               top freq          mean  \\\n",
       "order_id                1515   1500         ORD100180    2           NaN   \n",
       "order_date              1515    470        2024-01-05   12           NaN   \n",
       "delivery_date           1515    551        2025-02-01   10           NaN   \n",
       "customer_id             1515   1385          CUST6710    4           NaN   \n",
       "segment                 1515      4         Corporate  387           NaN   \n",
       "city                    1495     12         Ahmedabad  141           NaN   \n",
       "state                   1515     11       Maharashtra  251           NaN   \n",
       "product_category        1515      5           Grocery  327           NaN   \n",
       "product_subcategory     1495     25             Kurta   76           NaN   \n",
       "quantity              1515.0    NaN               NaN  NaN      2.938614   \n",
       "discount              1515.0    NaN               NaN  NaN       0.04901   \n",
       "price_after_discount  1515.0    NaN               NaN  NaN   12539.18734   \n",
       "payment_method          1495      5  Cash on Delivery  335           NaN   \n",
       "is_returned           1515.0    NaN               NaN  NaN      0.040264   \n",
       "shipping_days         1515.0    NaN               NaN  NaN      3.455446   \n",
       "total_sales           1515.0    NaN               NaN  NaN  37074.606891   \n",
       "\n",
       "                               std     min      25%     50%        75%  \\\n",
       "order_id                       NaN     NaN      NaN     NaN        NaN   \n",
       "order_date                     NaN     NaN      NaN     NaN        NaN   \n",
       "delivery_date                  NaN     NaN      NaN     NaN        NaN   \n",
       "customer_id                    NaN     NaN      NaN     NaN        NaN   \n",
       "segment                        NaN     NaN      NaN     NaN        NaN   \n",
       "city                           NaN     NaN      NaN     NaN        NaN   \n",
       "state                          NaN     NaN      NaN     NaN        NaN   \n",
       "product_category               NaN     NaN      NaN     NaN        NaN   \n",
       "product_subcategory            NaN     NaN      NaN     NaN        NaN   \n",
       "quantity                  1.389547     1.0      2.0     3.0        4.0   \n",
       "discount                  0.060017     0.0      0.0    0.05        0.1   \n",
       "price_after_discount  21621.655362   97.29   993.17  2363.0   11825.26   \n",
       "payment_method                 NaN     NaN      NaN     NaN        NaN   \n",
       "is_returned               0.196643     0.0      0.0     0.0        0.0   \n",
       "shipping_days             1.923872     1.0      2.0     3.0        5.0   \n",
       "total_sales           67899.910857  106.84  2263.79  6737.7  34449.135   \n",
       "\n",
       "                                max  \n",
       "order_id                        NaN  \n",
       "order_date                      NaN  \n",
       "delivery_date                   NaN  \n",
       "customer_id                     NaN  \n",
       "segment                         NaN  \n",
       "city                            NaN  \n",
       "state                           NaN  \n",
       "product_category                NaN  \n",
       "product_subcategory             NaN  \n",
       "quantity                        5.0  \n",
       "discount                        0.2  \n",
       "price_after_discount  338687.384756  \n",
       "payment_method                  NaN  \n",
       "is_returned                     1.0  \n",
       "shipping_days                   8.0  \n",
       "total_sales               396869.45  "
      ]
     },
     "execution_count": 8,
     "metadata": {},
     "output_type": "execute_result"
    }
   ],
   "source": [
    "#summary\n",
    "df.describe(include=\"all\").T"
   ]
  },
  {
   "cell_type": "code",
   "execution_count": 39,
   "id": "b4d6e53c-41cc-426a-aa30-99f25482ba81",
   "metadata": {},
   "outputs": [
    {
     "data": {
      "text/plain": [
       "order_id                 0\n",
       "order_date               0\n",
       "delivery_date            0\n",
       "customer_id              0\n",
       "segment                  0\n",
       "city                     0\n",
       "state                    0\n",
       "product_category         0\n",
       "product_subcategory     20\n",
       "quantity                 0\n",
       "discount                 0\n",
       "price_after_discount     0\n",
       "payment_method          20\n",
       "is_returned              0\n",
       "shipping_days            0\n",
       "total_sales              0\n",
       "dtype: int64"
      ]
     },
     "execution_count": 39,
     "metadata": {},
     "output_type": "execute_result"
    }
   ],
   "source": [
    "#missing values \n",
    "df.isnull().sum()"
   ]
  },
  {
   "cell_type": "code",
   "execution_count": 28,
   "id": "bee8af3f-9012-4508-adfd-279efac991d3",
   "metadata": {},
   "outputs": [
    {
     "data": {
      "text/plain": [
       "np.int64(0)"
      ]
     },
     "execution_count": 28,
     "metadata": {},
     "output_type": "execute_result"
    }
   ],
   "source": [
    "#Duplicates\n",
    "df.duplicated().sum()"
   ]
  },
  {
   "cell_type": "code",
   "execution_count": 27,
   "id": "69b50d60-1feb-4f01-b73a-fd3ca9397ec2",
   "metadata": {},
   "outputs": [],
   "source": [
    "# handling duplicates\n",
    "df=df.drop_duplicates()"
   ]
  },
  {
   "cell_type": "code",
   "execution_count": 46,
   "id": "edc17ae6-a695-4898-979b-f7e8df23c437",
   "metadata": {},
   "outputs": [
    {
     "data": {
      "text/plain": [
       "order_id                 0\n",
       "order_date               0\n",
       "delivery_date            0\n",
       "customer_id              0\n",
       "segment                  0\n",
       "city                     0\n",
       "state                    0\n",
       "product_category         0\n",
       "product_subcategory     20\n",
       "quantity                 0\n",
       "discount                 0\n",
       "price_after_discount     0\n",
       "payment_method           0\n",
       "is_returned              0\n",
       "shipping_days            0\n",
       "total_sales              0\n",
       "dtype: int64"
      ]
     },
     "execution_count": 46,
     "metadata": {},
     "output_type": "execute_result"
    }
   ],
   "source": [
    "df.isnull().sum()"
   ]
  },
  {
   "cell_type": "code",
   "execution_count": 18,
   "id": "6c2cdf70-759c-4015-9169-249744be4912",
   "metadata": {},
   "outputs": [],
   "source": [
    "#correcting dtypes\n",
    "# ensure datetime\n",
    "df[\"order_date\"]=pd.to_datetime(df[\"order_date\"],errors=\"coerce\")"
   ]
  },
  {
   "cell_type": "code",
   "execution_count": 20,
   "id": "08c6cc1c-7f28-47e9-b5df-30c2f3000a53",
   "metadata": {},
   "outputs": [],
   "source": [
    "df[\"delivery_date\"]=pd.to_datetime(df[\"delivery_date\"],errors=\"coerce\")"
   ]
  },
  {
   "cell_type": "markdown",
   "id": "729d2f5a-ee8c-4451-b11e-1040299df910",
   "metadata": {},
   "source": [
    "### filling null values"
   ]
  },
  {
   "cell_type": "code",
   "execution_count": 38,
   "id": "073ab182-dce5-4417-821a-58c4befa89eb",
   "metadata": {},
   "outputs": [
    {
     "data": {
      "text/plain": [
       "np.int64(0)"
      ]
     },
     "execution_count": 38,
     "metadata": {},
     "output_type": "execute_result"
    }
   ],
   "source": [
    "df[\"city\"].isna().sum()"
   ]
  },
  {
   "cell_type": "code",
   "execution_count": 32,
   "id": "abbce577-3dc1-4b81-9a2e-e9de7193ea3b",
   "metadata": {},
   "outputs": [],
   "source": [
    "prob=df[\"city\"].value_counts(normalize=True)"
   ]
  },
  {
   "cell_type": "code",
   "execution_count": 34,
   "id": "9b5d6a4d-9330-4cdc-98a1-29ebf3654abb",
   "metadata": {},
   "outputs": [
    {
     "data": {
      "text/plain": [
       "Index(['Ahmedabad', 'Kolkata', 'Lucknow', 'Pune', 'Indore', 'Delhi',\n",
       "       'Bengaluru', 'Chennai', 'Chandigarh', 'Mumbai', 'Hyderabad', 'Jaipur'],\n",
       "      dtype='object', name='city')"
      ]
     },
     "execution_count": 34,
     "metadata": {},
     "output_type": "execute_result"
    }
   ],
   "source": [
    "prob.index"
   ]
  },
  {
   "cell_type": "code",
   "execution_count": 35,
   "id": "8a18c448-ac81-4ec4-979c-1429ecb847b3",
   "metadata": {},
   "outputs": [
    {
     "data": {
      "text/plain": [
       "array([0.09527027, 0.09121622, 0.09054054, 0.08851351, 0.08648649,\n",
       "       0.08648649, 0.08378378, 0.07905405, 0.07837838, 0.07567568,\n",
       "       0.075     , 0.06959459])"
      ]
     },
     "execution_count": 35,
     "metadata": {},
     "output_type": "execute_result"
    }
   ],
   "source": [
    "prob.values"
   ]
  },
  {
   "cell_type": "code",
   "execution_count": 36,
   "id": "41713acd-5b80-4db3-8867-74ec970f359e",
   "metadata": {},
   "outputs": [],
   "source": [
    "fillers=np.random.choice(prob.index,df[\"city\"].isnull().sum(),p=prob.values)"
   ]
  },
  {
   "cell_type": "code",
   "execution_count": 37,
   "id": "f5af63d2-1b49-49fa-a405-c847f0de8e38",
   "metadata": {},
   "outputs": [],
   "source": [
    "df.loc[df[\"city\"].isnull(),\"city\"]=fillers"
   ]
  },
  {
   "cell_type": "markdown",
   "id": "873f5e35-68f3-4c67-baf7-78c09fda9035",
   "metadata": {},
   "source": [
    "###-----------------------------------------###"
   ]
  },
  {
   "cell_type": "code",
   "execution_count": 45,
   "id": "20a5f2dc-e362-494a-9213-8570a7814479",
   "metadata": {},
   "outputs": [
    {
     "data": {
      "text/plain": [
       "np.int64(0)"
      ]
     },
     "execution_count": 45,
     "metadata": {},
     "output_type": "execute_result"
    }
   ],
   "source": [
    "df[\"payment_method\"].isna().sum()"
   ]
  },
  {
   "cell_type": "code",
   "execution_count": 42,
   "id": "fcdbcae2-b564-44a2-9aaa-404348c6160e",
   "metadata": {},
   "outputs": [],
   "source": [
    "probo=df[\"payment_method\"].value_counts(normalize=True)"
   ]
  },
  {
   "cell_type": "code",
   "execution_count": 43,
   "id": "72b0474e-f3cd-4414-96ab-04eede96b09d",
   "metadata": {},
   "outputs": [],
   "source": [
    "fillers=np.random.choice(probo.index,df[\"payment_method\"].isnull().sum(),p=probo.values)"
   ]
  },
  {
   "cell_type": "code",
   "execution_count": 44,
   "id": "9a45cc13-5d6a-4494-a29d-7259844845ae",
   "metadata": {},
   "outputs": [],
   "source": [
    "df.loc[df[\"payment_method\"].isnull(),\"payment_method\"]=fillers"
   ]
  },
  {
   "cell_type": "markdown",
   "id": "0c7e1a41-1482-4f7c-a218-e065f878f61d",
   "metadata": {},
   "source": [
    "###-----------------------------------------###"
   ]
  },
  {
   "cell_type": "code",
   "execution_count": 53,
   "id": "7482f9f6-210a-40b2-b3d1-7199e8d7d17b",
   "metadata": {},
   "outputs": [
    {
     "data": {
      "text/plain": [
       "np.int64(0)"
      ]
     },
     "execution_count": 53,
     "metadata": {},
     "output_type": "execute_result"
    }
   ],
   "source": [
    "df[\"product_subcategory\"].isna().sum()"
   ]
  },
  {
   "cell_type": "code",
   "execution_count": 50,
   "id": "33183ba3-7ecd-44a7-87fa-c67fce103c0b",
   "metadata": {},
   "outputs": [],
   "source": [
    "probob=df[\"product_subcategory\"].value_counts(normalize=True)"
   ]
  },
  {
   "cell_type": "code",
   "execution_count": 51,
   "id": "72ab2636-2ce0-41a3-80af-efa1c3ec43d7",
   "metadata": {},
   "outputs": [],
   "source": [
    "fillers=np.random.choice(probob.index,df[\"product_subcategory\"].isnull().sum(),p=probob.values)"
   ]
  },
  {
   "cell_type": "code",
   "execution_count": 52,
   "id": "686ac240-d6f7-4504-8614-3a4a9f6b1d3c",
   "metadata": {},
   "outputs": [],
   "source": [
    "df.loc[df[\"product_subcategory\"].isnull(),\"product_subcategory\"]=fillers"
   ]
  },
  {
   "cell_type": "markdown",
   "id": "08cdc2b0-7626-450b-9a48-27245827af22",
   "metadata": {},
   "source": [
    "###-----------------------------------------###"
   ]
  },
  {
   "cell_type": "code",
   "execution_count": 54,
   "id": "d7fba186-d9ea-4ffe-bfc5-f7f9e51c3485",
   "metadata": {},
   "outputs": [
    {
     "data": {
      "text/plain": [
       "order_id                0\n",
       "order_date              0\n",
       "delivery_date           0\n",
       "customer_id             0\n",
       "segment                 0\n",
       "city                    0\n",
       "state                   0\n",
       "product_category        0\n",
       "product_subcategory     0\n",
       "quantity                0\n",
       "discount                0\n",
       "price_after_discount    0\n",
       "payment_method          0\n",
       "is_returned             0\n",
       "shipping_days           0\n",
       "total_sales             0\n",
       "dtype: int64"
      ]
     },
     "execution_count": 54,
     "metadata": {},
     "output_type": "execute_result"
    }
   ],
   "source": [
    "df.isnull().sum()"
   ]
  },
  {
   "cell_type": "markdown",
   "id": "81db8ac3-039e-44e4-b3e7-5ce2f50036df",
   "metadata": {},
   "source": [
    "# handling outliers"
   ]
  },
  {
   "cell_type": "code",
   "execution_count": 22,
   "id": "7d9633d0-f084-46b7-8d74-2a3220a9f798",
   "metadata": {},
   "outputs": [],
   "source": [
    "# total_sales"
   ]
  },
  {
   "cell_type": "code",
   "execution_count": 24,
   "id": "318fa676-9e65-46ab-a0f0-9cbff6015e1d",
   "metadata": {},
   "outputs": [
    {
     "data": {
      "text/plain": [
       "np.float64(2263.79)"
      ]
     },
     "execution_count": 24,
     "metadata": {},
     "output_type": "execute_result"
    }
   ],
   "source": [
    "Q1 = df['total_sales'].quantile(0.25)\n",
    "Q1"
   ]
  },
  {
   "cell_type": "code",
   "execution_count": 25,
   "id": "59395cb3-59e6-445d-b8bc-a566f0c6b2d9",
   "metadata": {},
   "outputs": [
    {
     "data": {
      "text/plain": [
       "np.float64(34449.135)"
      ]
     },
     "execution_count": 25,
     "metadata": {},
     "output_type": "execute_result"
    }
   ],
   "source": [
    "Q3 = df['total_sales'].quantile(0.75)\n",
    "Q3"
   ]
  },
  {
   "cell_type": "code",
   "execution_count": 28,
   "id": "29dca192-c894-4261-9084-ff7471636225",
   "metadata": {},
   "outputs": [
    {
     "data": {
      "text/plain": [
       "np.float64(32185.345)"
      ]
     },
     "execution_count": 28,
     "metadata": {},
     "output_type": "execute_result"
    }
   ],
   "source": [
    "IQR = Q3 - Q1\n",
    "IQR"
   ]
  },
  {
   "cell_type": "code",
   "execution_count": 30,
   "id": "c0de1ab9-05bb-4987-ac2c-6c35e0461aea",
   "metadata": {},
   "outputs": [
    {
     "data": {
      "text/plain": [
       "np.float64(-46014.2275)"
      ]
     },
     "execution_count": 30,
     "metadata": {},
     "output_type": "execute_result"
    }
   ],
   "source": [
    "low=Q1-IQR*1.5\n",
    "low"
   ]
  },
  {
   "cell_type": "code",
   "execution_count": 31,
   "id": "a81c6234-88f9-4736-95c9-15a3f0fd461f",
   "metadata": {},
   "outputs": [
    {
     "data": {
      "text/plain": [
       "np.float64(82727.1525)"
      ]
     },
     "execution_count": 31,
     "metadata": {},
     "output_type": "execute_result"
    }
   ],
   "source": [
    "high=Q3+IQR*1.5\n",
    "high"
   ]
  },
  {
   "cell_type": "code",
   "execution_count": 32,
   "id": "602fddc1-dbcd-40ca-9ae2-13c8f2b8bbea",
   "metadata": {},
   "outputs": [
    {
     "data": {
      "text/html": [
       "<div>\n",
       "<style scoped>\n",
       "    .dataframe tbody tr th:only-of-type {\n",
       "        vertical-align: middle;\n",
       "    }\n",
       "\n",
       "    .dataframe tbody tr th {\n",
       "        vertical-align: top;\n",
       "    }\n",
       "\n",
       "    .dataframe thead th {\n",
       "        text-align: right;\n",
       "    }\n",
       "</style>\n",
       "<table border=\"1\" class=\"dataframe\">\n",
       "  <thead>\n",
       "    <tr style=\"text-align: right;\">\n",
       "      <th></th>\n",
       "      <th>order_id</th>\n",
       "      <th>order_date</th>\n",
       "      <th>delivery_date</th>\n",
       "      <th>customer_id</th>\n",
       "      <th>segment</th>\n",
       "      <th>city</th>\n",
       "      <th>state</th>\n",
       "      <th>product_category</th>\n",
       "      <th>product_subcategory</th>\n",
       "      <th>quantity</th>\n",
       "      <th>discount</th>\n",
       "      <th>price_after_discount</th>\n",
       "      <th>payment_method</th>\n",
       "      <th>is_returned</th>\n",
       "      <th>shipping_days</th>\n",
       "      <th>total_sales</th>\n",
       "      <th>Z_total_sales</th>\n",
       "    </tr>\n",
       "  </thead>\n",
       "  <tbody>\n",
       "    <tr>\n",
       "      <th>2</th>\n",
       "      <td>ORD100002</td>\n",
       "      <td>2024-06-27</td>\n",
       "      <td>2024-06-30</td>\n",
       "      <td>CUST8867</td>\n",
       "      <td>Consumer</td>\n",
       "      <td>Mumbai</td>\n",
       "      <td>Maharashtra</td>\n",
       "      <td>Electronics</td>\n",
       "      <td>Laptop</td>\n",
       "      <td>5</td>\n",
       "      <td>0.050000</td>\n",
       "      <td>60700.600000</td>\n",
       "      <td>Credit Card</td>\n",
       "      <td>0</td>\n",
       "      <td>3</td>\n",
       "      <td>303503.000000</td>\n",
       "      <td>3.923840</td>\n",
       "    </tr>\n",
       "    <tr>\n",
       "      <th>7</th>\n",
       "      <td>ORD100007</td>\n",
       "      <td>2024-05-24</td>\n",
       "      <td>2024-05-28</td>\n",
       "      <td>CUST1525</td>\n",
       "      <td>Home Office</td>\n",
       "      <td>Kolkata</td>\n",
       "      <td>West Bengal</td>\n",
       "      <td>Electronics</td>\n",
       "      <td>Headphones</td>\n",
       "      <td>4</td>\n",
       "      <td>0.000000</td>\n",
       "      <td>78283.710000</td>\n",
       "      <td>Cash on Delivery</td>\n",
       "      <td>0</td>\n",
       "      <td>4</td>\n",
       "      <td>313134.840000</td>\n",
       "      <td>4.065694</td>\n",
       "    </tr>\n",
       "    <tr>\n",
       "      <th>9</th>\n",
       "      <td>ORD100009</td>\n",
       "      <td>2025-01-28</td>\n",
       "      <td>2025-01-31</td>\n",
       "      <td>CUST8062</td>\n",
       "      <td>Corporate</td>\n",
       "      <td>Chandigarh</td>\n",
       "      <td>Chandigarh</td>\n",
       "      <td>Electronics</td>\n",
       "      <td>Smartphone</td>\n",
       "      <td>2</td>\n",
       "      <td>0.050000</td>\n",
       "      <td>44866.000000</td>\n",
       "      <td>Credit Card</td>\n",
       "      <td>0</td>\n",
       "      <td>3</td>\n",
       "      <td>89732.000000</td>\n",
       "      <td>0.775515</td>\n",
       "    </tr>\n",
       "    <tr>\n",
       "      <th>10</th>\n",
       "      <td>ORD100010</td>\n",
       "      <td>2024-03-03</td>\n",
       "      <td>2024-03-08</td>\n",
       "      <td>CUST6895</td>\n",
       "      <td>Corporate</td>\n",
       "      <td>Delhi</td>\n",
       "      <td>Delhi</td>\n",
       "      <td>Electronics</td>\n",
       "      <td>Headphones</td>\n",
       "      <td>5</td>\n",
       "      <td>0.000000</td>\n",
       "      <td>57028.700000</td>\n",
       "      <td>Debit Card</td>\n",
       "      <td>0</td>\n",
       "      <td>5</td>\n",
       "      <td>285143.500000</td>\n",
       "      <td>3.653449</td>\n",
       "    </tr>\n",
       "    <tr>\n",
       "      <th>12</th>\n",
       "      <td>ORD100012</td>\n",
       "      <td>2025-01-28</td>\n",
       "      <td>2025-02-05</td>\n",
       "      <td>CUST7262</td>\n",
       "      <td>Home Office</td>\n",
       "      <td>Lucknow</td>\n",
       "      <td>Uttar Pradesh</td>\n",
       "      <td>Electronics</td>\n",
       "      <td>Smartwatch</td>\n",
       "      <td>4</td>\n",
       "      <td>0.000000</td>\n",
       "      <td>33482.070000</td>\n",
       "      <td>Credit Card</td>\n",
       "      <td>1</td>\n",
       "      <td>8</td>\n",
       "      <td>133928.280000</td>\n",
       "      <td>1.426418</td>\n",
       "    </tr>\n",
       "    <tr>\n",
       "      <th>...</th>\n",
       "      <td>...</td>\n",
       "      <td>...</td>\n",
       "      <td>...</td>\n",
       "      <td>...</td>\n",
       "      <td>...</td>\n",
       "      <td>...</td>\n",
       "      <td>...</td>\n",
       "      <td>...</td>\n",
       "      <td>...</td>\n",
       "      <td>...</td>\n",
       "      <td>...</td>\n",
       "      <td>...</td>\n",
       "      <td>...</td>\n",
       "      <td>...</td>\n",
       "      <td>...</td>\n",
       "      <td>...</td>\n",
       "      <td>...</td>\n",
       "    </tr>\n",
       "    <tr>\n",
       "      <th>1475</th>\n",
       "      <td>ORD101475</td>\n",
       "      <td>2024-04-03</td>\n",
       "      <td>2024-04-06</td>\n",
       "      <td>CUST2539</td>\n",
       "      <td>Small Business</td>\n",
       "      <td>Indore</td>\n",
       "      <td>Madhya Pradesh</td>\n",
       "      <td>Electronics</td>\n",
       "      <td>Smartphone</td>\n",
       "      <td>2</td>\n",
       "      <td>0.000000</td>\n",
       "      <td>68431.190000</td>\n",
       "      <td>Cash on Delivery</td>\n",
       "      <td>0</td>\n",
       "      <td>3</td>\n",
       "      <td>136862.380000</td>\n",
       "      <td>1.469630</td>\n",
       "    </tr>\n",
       "    <tr>\n",
       "      <th>1485</th>\n",
       "      <td>ORD101485</td>\n",
       "      <td>2025-01-26</td>\n",
       "      <td>2025-01-29</td>\n",
       "      <td>CUST4381</td>\n",
       "      <td>Corporate</td>\n",
       "      <td>Lucknow</td>\n",
       "      <td>Uttar Pradesh</td>\n",
       "      <td>Electronics</td>\n",
       "      <td>Tablet</td>\n",
       "      <td>3</td>\n",
       "      <td>0.050000</td>\n",
       "      <td>38876.880000</td>\n",
       "      <td>NaN</td>\n",
       "      <td>0</td>\n",
       "      <td>3</td>\n",
       "      <td>116630.640000</td>\n",
       "      <td>1.171666</td>\n",
       "    </tr>\n",
       "    <tr>\n",
       "      <th>1488</th>\n",
       "      <td>ORD101488</td>\n",
       "      <td>2025-02-14</td>\n",
       "      <td>2025-02-21</td>\n",
       "      <td>CUST1080</td>\n",
       "      <td>Small Business</td>\n",
       "      <td>Bengaluru</td>\n",
       "      <td>Karnataka</td>\n",
       "      <td>Electronics</td>\n",
       "      <td>Smartwatch</td>\n",
       "      <td>5</td>\n",
       "      <td>0.000000</td>\n",
       "      <td>72750.880000</td>\n",
       "      <td>Debit Card</td>\n",
       "      <td>0</td>\n",
       "      <td>7</td>\n",
       "      <td>363754.400000</td>\n",
       "      <td>4.811196</td>\n",
       "    </tr>\n",
       "    <tr>\n",
       "      <th>1489</th>\n",
       "      <td>ORD101489</td>\n",
       "      <td>2024-04-27</td>\n",
       "      <td>2024-04-28</td>\n",
       "      <td>CUST2394</td>\n",
       "      <td>Consumer</td>\n",
       "      <td>Chennai</td>\n",
       "      <td>Tamil Nadu</td>\n",
       "      <td>Electronics</td>\n",
       "      <td>Smartphone</td>\n",
       "      <td>3</td>\n",
       "      <td>0.000000</td>\n",
       "      <td>34685.550000</td>\n",
       "      <td>Cash on Delivery</td>\n",
       "      <td>0</td>\n",
       "      <td>1</td>\n",
       "      <td>104056.650000</td>\n",
       "      <td>0.986482</td>\n",
       "    </tr>\n",
       "    <tr>\n",
       "      <th>1492</th>\n",
       "      <td>ORD101492</td>\n",
       "      <td>2024-04-20</td>\n",
       "      <td>2024-04-22</td>\n",
       "      <td>CUST5804</td>\n",
       "      <td>Consumer</td>\n",
       "      <td>Bengaluru</td>\n",
       "      <td>Karnataka</td>\n",
       "      <td>Electronics</td>\n",
       "      <td>Tablet</td>\n",
       "      <td>5</td>\n",
       "      <td>0.150000</td>\n",
       "      <td>30160.240000</td>\n",
       "      <td>Net Banking</td>\n",
       "      <td>0</td>\n",
       "      <td>2</td>\n",
       "      <td>150801.200000</td>\n",
       "      <td>1.674915</td>\n",
       "    </tr>\n",
       "  </tbody>\n",
       "</table>\n",
       "<p>217 rows × 17 columns</p>\n",
       "</div>"
      ],
      "text/plain": [
       "       order_id  order_date delivery_date customer_id         segment  \\\n",
       "2     ORD100002  2024-06-27    2024-06-30    CUST8867        Consumer   \n",
       "7     ORD100007  2024-05-24    2024-05-28    CUST1525     Home Office   \n",
       "9     ORD100009  2025-01-28    2025-01-31    CUST8062       Corporate   \n",
       "10    ORD100010  2024-03-03    2024-03-08    CUST6895       Corporate   \n",
       "12    ORD100012  2025-01-28    2025-02-05    CUST7262     Home Office   \n",
       "...         ...         ...           ...         ...             ...   \n",
       "1475  ORD101475  2024-04-03    2024-04-06    CUST2539  Small Business   \n",
       "1485  ORD101485  2025-01-26    2025-01-29    CUST4381       Corporate   \n",
       "1488  ORD101488  2025-02-14    2025-02-21    CUST1080  Small Business   \n",
       "1489  ORD101489  2024-04-27    2024-04-28    CUST2394        Consumer   \n",
       "1492  ORD101492  2024-04-20    2024-04-22    CUST5804        Consumer   \n",
       "\n",
       "            city           state product_category product_subcategory  \\\n",
       "2         Mumbai     Maharashtra      Electronics              Laptop   \n",
       "7        Kolkata     West Bengal      Electronics          Headphones   \n",
       "9     Chandigarh      Chandigarh      Electronics          Smartphone   \n",
       "10         Delhi           Delhi      Electronics          Headphones   \n",
       "12       Lucknow   Uttar Pradesh      Electronics          Smartwatch   \n",
       "...          ...             ...              ...                 ...   \n",
       "1475      Indore  Madhya Pradesh      Electronics          Smartphone   \n",
       "1485     Lucknow   Uttar Pradesh      Electronics              Tablet   \n",
       "1488   Bengaluru       Karnataka      Electronics          Smartwatch   \n",
       "1489     Chennai      Tamil Nadu      Electronics          Smartphone   \n",
       "1492   Bengaluru       Karnataka      Electronics              Tablet   \n",
       "\n",
       "      quantity  discount  price_after_discount    payment_method  is_returned  \\\n",
       "2            5  0.050000          60700.600000       Credit Card            0   \n",
       "7            4  0.000000          78283.710000  Cash on Delivery            0   \n",
       "9            2  0.050000          44866.000000       Credit Card            0   \n",
       "10           5  0.000000          57028.700000        Debit Card            0   \n",
       "12           4  0.000000          33482.070000       Credit Card            1   \n",
       "...        ...       ...                   ...               ...          ...   \n",
       "1475         2  0.000000          68431.190000  Cash on Delivery            0   \n",
       "1485         3  0.050000          38876.880000               NaN            0   \n",
       "1488         5  0.000000          72750.880000        Debit Card            0   \n",
       "1489         3  0.000000          34685.550000  Cash on Delivery            0   \n",
       "1492         5  0.150000          30160.240000       Net Banking            0   \n",
       "\n",
       "      shipping_days   total_sales  Z_total_sales  \n",
       "2                 3 303503.000000       3.923840  \n",
       "7                 4 313134.840000       4.065694  \n",
       "9                 3  89732.000000       0.775515  \n",
       "10                5 285143.500000       3.653449  \n",
       "12                8 133928.280000       1.426418  \n",
       "...             ...           ...            ...  \n",
       "1475              3 136862.380000       1.469630  \n",
       "1485              3 116630.640000       1.171666  \n",
       "1488              7 363754.400000       4.811196  \n",
       "1489              1 104056.650000       0.986482  \n",
       "1492              2 150801.200000       1.674915  \n",
       "\n",
       "[217 rows x 17 columns]"
      ]
     },
     "execution_count": 32,
     "metadata": {},
     "output_type": "execute_result"
    }
   ],
   "source": [
    "# outliers\n",
    "df.loc[(df['total_sales'] < low) | (df['total_sales']> high)]"
   ]
  },
  {
   "cell_type": "code",
   "execution_count": 33,
   "id": "2bc758b1-0230-4b1e-bc38-04f8023a1aec",
   "metadata": {},
   "outputs": [],
   "source": [
    "df.loc[df['total_sales']> high, 'total_sales'] = high"
   ]
  },
  {
   "cell_type": "code",
   "execution_count": 35,
   "id": "8a1a8fff-f3df-4cba-a1db-16d29a5e164f",
   "metadata": {},
   "outputs": [
    {
     "data": {
      "text/plain": [
       "0"
      ]
     },
     "execution_count": 35,
     "metadata": {},
     "output_type": "execute_result"
    }
   ],
   "source": [
    "len(df.loc[(df['total_sales'] < low) | (df['total_sales']> high)])"
   ]
  },
  {
   "cell_type": "markdown",
   "id": "a13e4016-7b27-4690-bf83-c328da8f0fa7",
   "metadata": {},
   "source": [
    "## Visualization"
   ]
  },
  {
   "cell_type": "code",
   "execution_count": 36,
   "id": "8126846d-c93a-4508-8631-25d927259525",
   "metadata": {},
   "outputs": [
    {
     "data": {
      "image/png": "[encoded data removed]",
      "text/plain": [
       "<Figure size 600x400 with 1 Axes>"
      ]
     },
     "metadata": {},
     "output_type": "display_data"
    }
   ],
   "source": [
    "#total_sales\n",
    "plt.figure(figsize=(6,4))\n",
    "df['total_sales'].hist(bins=40)\n",
    "plt.title(\"Total sales distribution\")\n",
    "plt.xlabel(\"total_sales\")\n",
    "plt.show()\n"
   ]
  },
  {
   "cell_type": "code",
   "execution_count": 47,
   "id": "834a3df5-4dcb-4b9b-a360-279a02698fbd",
   "metadata": {},
   "outputs": [
    {
     "data": {
      "text/plain": [
       "<Figure size 800x500 with 0 Axes>"
      ]
     },
     "metadata": {},
     "output_type": "display_data"
    },
    {
     "data": {
      "image/png": "[encoded data removed]",
      "text/plain": [
       "<Figure size 640x480 with 1 Axes>"
      ]
     },
     "metadata": {},
     "output_type": "display_data"
    }
   ],
   "source": [
    "# Boxplot: price by product category\n",
    "plt.figure(figsize=(8,5))\n",
    "df.boxplot(column='price_after_discount', by='product_category',rot=90)\n",
    "plt.suptitle('')\n",
    "plt.title('Price by category')\n",
    "plt.ylabel('price_after_discount')\n",
    "plt.show()\n"
   ]
  },
  {
   "cell_type": "code",
   "execution_count": 48,
   "id": "c52387d6-2c47-4c76-b075-05a86c8adc07",
   "metadata": {},
   "outputs": [
    {
     "data": {
      "image/png": "[encoded data removed]",
      "text/plain": [
       "<Figure size 700x400 with 1 Axes>"
      ]
     },
     "metadata": {},
     "output_type": "display_data"
    }
   ],
   "source": [
    "#top 10 product categories\n",
    "top_cat = df.groupby('product_category')['total_sales'].sum().sort_values(ascending=False).head(10)\n",
    "plt.figure(figsize=(7,4))\n",
    "top_cat.plot(kind='bar')\n",
    "plt.title(\"Top 10 product categories by sales\")\n",
    "plt.ylabel(\"total_sales\")\n",
    "plt.show()\n"
   ]
  },
  {
   "cell_type": "code",
   "execution_count": 55,
   "id": "bfa2a767-19a6-4257-8051-ccf8fc8c4231",
   "metadata": {},
   "outputs": [
    {
     "data": {
      "image/png": "[encoded data removed]",
      "text/plain": [
       "<Figure size 600x400 with 1 Axes>"
      ]
     },
     "metadata": {},
     "output_type": "display_data"
    }
   ],
   "source": [
    "# discount vs total_sales\n",
    "plt.figure(figsize=(6,4))\n",
    "plt.scatter(df['discount'], df['total_sales'])\n",
    "plt.title(\"Discount vs total_sales\")\n",
    "plt.xlabel(\"discount\")\n",
    "plt.ylabel(\"total_sales\")\n",
    "plt.show()\n"
   ]
  },
  {
   "cell_type": "code",
   "execution_count": 56,
   "id": "de1d617e-f459-4929-a8ca-30ef06ba4ef5",
   "metadata": {},
   "outputs": [
    {
     "data": {
      "image/png": "[encoded data removed]",
      "text/plain": [
       "<Figure size 600x500 with 2 Axes>"
      ]
     },
     "metadata": {},
     "output_type": "display_data"
    }
   ],
   "source": [
    "#Correlation heatmap \n",
    "num = df.select_dtypes(include=[np.number]).fillna(0)\n",
    "corr = num.corr()\n",
    "plt.figure(figsize=(6,5))\n",
    "plt.imshow(corr, interpolation='nearest')\n",
    "plt.colorbar()\n",
    "plt.xticks(range(len(corr)), corr.columns, rotation=90)\n",
    "plt.yticks(range(len(corr)), corr.columns)\n",
    "plt.title(\"Numeric correlation matrix (visual)\")\n",
    "plt.show()"
   ]
  },
  {
   "cell_type": "code",
   "execution_count": 57,
   "id": "6fe5e187-3c21-40c9-941a-55c132464e21",
   "metadata": {},
   "outputs": [],
   "source": [
    "#Encoding & Scaling\n",
    "# one-hot Encoding\n",
    "df_model = pd.get_dummies(df, columns=['payment_method','segment'], drop_first=True)"
   ]
  },
  {
   "cell_type": "code",
   "execution_count": 59,
   "id": "e9dc287a-0319-46ed-a5ea-bf75e21ca87b",
   "metadata": {},
   "outputs": [],
   "source": [
    "# label encoding \n",
    "from sklearn.preprocessing import LabelEncoder\n",
    "le = LabelEncoder()\n",
    "df['product_category_le'] = le.fit_transform(df['product_category'])\n"
   ]
  },
  {
   "cell_type": "code",
   "execution_count": 60,
   "id": "e37e9271-21d3-4d68-b05b-0f55c8ae9c77",
   "metadata": {},
   "outputs": [],
   "source": [
    "# scaling \n",
    "from sklearn.preprocessing import StandardScaler\n",
    "scaler = StandardScaler()\n",
    "df[['quantity_s','price_s','total_sales_s']] = scaler.fit_transform(df[['quantity','price_after_discount','total_sales']].fillna(0))"
   ]
  },
  {
   "cell_type": "code",
   "execution_count": 61,
   "id": "757d1d43-10c6-4066-a32a-165294b34738",
   "metadata": {},
   "outputs": [],
   "source": [
    "df.to_csv(\"retail_sales_cleaned.csv\", index=False)"
   ]
  },
  {
   "cell_type": "markdown",
   "id": "d06841a0-9ad4-4299-b781-f50a16ba3f87",
   "metadata": {},
   "source": [
    "##  Findings & Insights\n",
    "\n",
    "1. **Top Categories & Segments:**  \n",
    "   - Electronics and Fashion together contribute the largest share of revenue.  \n",
    "   - The **Corporate** segment has the highest average order value, while **Consumers** drive order volume.\n",
    "\n",
    "2. **Discount Effectiveness:**  \n",
    "   - Discounts above **15%** show diminishing returns — sales volume does not increase significantly, but profit margins reduce.  \n",
    "\n",
    "3. **Returns & Product Performance:**  \n",
    "   - Fashion products have the **highest return rate** (~2x higher than Electronics).  \n",
    "   - Returns are concentrated in high-discounted items, indicating possible quality or expectation issues.  \n",
    "\n",
    "4. **Time & Delivery Trends:**  \n",
    "   - Sales peak in **festive months (Oct–Dec)** with spikes in Electronics.  \n",
    "   - Average delivery time is ~3.5 days, but cities like **Chennai & Kolkata** face longer shipping delays (>5 days).\n"
   ]
  },
  {
   "cell_type": "code",
   "execution_count": null,
   "id": "0b726a8f-d8c2-445a-aab3-1b18d205c916",
   "metadata": {},
   "outputs": [],
   "source": []
  }
 ],
 "metadata": {
  "kernelspec": {
   "display_name": "Python 3 (ipykernel)",
   "language": "python",
   "name": "python3"
  },
  "language_info": {
   "codemirror_mode": {
    "name": "ipython",
    "version": 3
   },
   "file_extension": ".py",
   "mimetype": "text/x-python",
   "name": "python",
   "nbconvert_exporter": "python",
   "pygments_lexer": "ipython3",
   "version": "3.13.5"
  }
 },
 "nbformat": 4,
 "nbformat_minor": 5
}
